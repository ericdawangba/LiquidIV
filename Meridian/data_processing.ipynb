{
 "cells": [
  {
   "cell_type": "code",
   "execution_count": 5,
   "metadata": {},
   "outputs": [
    {
     "name": "stdout",
     "output_type": "stream",
     "text": [
      "temp.xlsx created\n"
     ]
    }
   ],
   "source": [
    "import pandas as pd\n",
    "\n",
    "# Path to the Excel file\n",
    "excel_file = f'liquidIV.xlsx'\n",
    "\n",
    "# List of Retailers\n",
    "sheet_names = [\"Sales\", \"Impressions\", \"Spend\"]  \n",
    "\n",
    "# Initialize an empty DataFrame for merging\n",
    "merged_df = pd.DataFrame(index=pd.date_range(start='2023-07-30', end='2024-09-29', freq='W'))\n",
    "\n",
    "#start merging\n",
    "for sheet in sheet_names:\n",
    "    df = pd.read_excel(excel_file, sheet_name=sheet, index_col='Date')\n",
    "    df.index = pd.to_datetime(df.index)\n",
    "    merged_df = pd.merge(merged_df, df, left_index=True, right_index=True, how=\"left\")\n",
    "\n",
    "merged_df.fillna(0, inplace=True)\n",
    "merged_df.to_excel(\"temp.xlsx\", index=True, index_label=\"Date\")\n",
    "print(\"temp.xlsx created\")"
   ]
  }
 ],
 "metadata": {
  "kernelspec": {
   "display_name": "base",
   "language": "python",
   "name": "python3"
  },
  "language_info": {
   "codemirror_mode": {
    "name": "ipython",
    "version": 3
   },
   "file_extension": ".py",
   "mimetype": "text/x-python",
   "name": "python",
   "nbconvert_exporter": "python",
   "pygments_lexer": "ipython3",
   "version": "3.12.4"
  }
 },
 "nbformat": 4,
 "nbformat_minor": 2
}
