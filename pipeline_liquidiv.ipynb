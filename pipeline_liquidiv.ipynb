{
 "cells": [
  {
   "cell_type": "code",
   "execution_count": 4,
   "metadata": {},
   "outputs": [],
   "source": [
    "import pandas as pd\n",
    "# Path to the Excel file\n",
    "excel_file = f'liquidIV.xlsx'\n",
    "\n",
    "# List of Retailers\n",
    "sheet_names = [\"Amazon\", \"Media\", \"Sample\", \"PI\", 'PR', \"AMZ\", \"Media_spend\", \"AMZ_spend\"]  \n",
    "\n",
    "# Initialize an empty DataFrame for merging\n",
    "merged_df = pd.DataFrame(index=pd.date_range(start='2023-01-08', end='2024-09-29', freq='W'))\n",
    "\n",
    "#start merging\n",
    "for sheet in sheet_names:\n",
    "    df = pd.read_excel(excel_file, sheet_name=sheet, index_col='Date')\n",
    "    if sheet in [\"Sample\", \"PI\", \"PR\", \"AMZ\", \"AMZ_spend\"]:\n",
    "        if sheet == \"AMZ_spend\":\n",
    "            df.columns = [f'AMZ | {col}' for col in df.columns]\n",
    "        else:\n",
    "            df.columns = [f'{sheet} | {col}' for col in df.columns]\n",
    "    df.index = pd.to_datetime(df.index)\n",
    "    weekly_df = df.resample('W').sum()\n",
    "    merged_df = pd.merge(merged_df, weekly_df, left_index=True, right_index=True, how=\"left\")\n",
    "\n",
    "merged_df[\"LiquidIV - Pricing\"] = round(merged_df[\"LiquidIV - Pricing\"]/7, 2)\n",
    "merged_df.fillna(0, inplace=True)\n",
    "merged_df.to_excel(\"temp.xlsx\", index=True)"
   ]
  }
 ],
 "metadata": {
  "kernelspec": {
   "display_name": "Python 3",
   "language": "python",
   "name": "python3"
  },
  "language_info": {
   "codemirror_mode": {
    "name": "ipython",
    "version": 3
   },
   "file_extension": ".py",
   "mimetype": "text/x-python",
   "name": "python",
   "nbconvert_exporter": "python",
   "pygments_lexer": "ipython3",
   "version": "3.12.4"
  }
 },
 "nbformat": 4,
 "nbformat_minor": 2
}
